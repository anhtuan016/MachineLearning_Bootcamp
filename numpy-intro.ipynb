{
 "cells": [
  {
   "cell_type": "code",
   "execution_count": 1,
   "id": "1b603d49",
   "metadata": {},
   "outputs": [],
   "source": [
    "import numpy as np"
   ]
  },
  {
   "cell_type": "markdown",
   "id": "fa204726",
   "metadata": {},
   "source": [
    "## Datatype & Attribute\n"
   ]
  },
  {
   "cell_type": "code",
   "execution_count": 10,
   "id": "e915663c",
   "metadata": {},
   "outputs": [
    {
     "data": {
      "text/plain": [
       "1"
      ]
     },
     "execution_count": 10,
     "metadata": {},
     "output_type": "execute_result"
    }
   ],
   "source": [
    "a1 = np.array([1,2,3])\n",
    "a1.shape\n",
    "a1.ndim"
   ]
  },
  {
   "cell_type": "code",
   "execution_count": 6,
   "id": "149b10e5",
   "metadata": {
    "scrolled": true
   },
   "outputs": [
    {
     "data": {
      "text/plain": [
       "array([[1, 2, 3],\n",
       "       [3, 4, 5]])"
      ]
     },
     "execution_count": 6,
     "metadata": {},
     "output_type": "execute_result"
    }
   ],
   "source": [
    "a2 = np.array([[1,2,3], [3,4,5]])\n",
    "a2"
   ]
  },
  {
   "cell_type": "code",
   "execution_count": 13,
   "id": "e3d5ce5b",
   "metadata": {
    "scrolled": false
   },
   "outputs": [
    {
     "data": {
      "text/plain": [
       "3"
      ]
     },
     "execution_count": 13,
     "metadata": {},
     "output_type": "execute_result"
    }
   ],
   "source": [
    "a3 = np.array([\n",
    "    [\n",
    "        [1, 2, 3],\n",
    "        [4, 5, 6]\n",
    "    ],\n",
    "    [\n",
    "        [7, 8, 9],\n",
    "        [10, 11, 12]\n",
    "    ],\n",
    "    [\n",
    "        [13, 14, 15],\n",
    "        [16, 17, 18]\n",
    "    ]\n",
    "])\n",
    "a3.shape\n",
    "a3.ndim"
   ]
  },
  {
   "cell_type": "code",
   "execution_count": 14,
   "id": "7b4a9f08",
   "metadata": {},
   "outputs": [
    {
     "data": {
      "text/plain": [
       "numpy.ndarray"
      ]
     },
     "execution_count": 14,
     "metadata": {},
     "output_type": "execute_result"
    }
   ],
   "source": [
    "type(a3)"
   ]
  },
  {
   "cell_type": "code",
   "execution_count": 16,
   "id": "4ed5e23a",
   "metadata": {},
   "outputs": [
    {
     "data": {
      "text/plain": [
       "dtype('int32')"
      ]
     },
     "execution_count": 16,
     "metadata": {},
     "output_type": "execute_result"
    }
   ],
   "source": [
    "a3.dtype"
   ]
  },
  {
   "cell_type": "code",
   "execution_count": 17,
   "id": "a6e34d0f",
   "metadata": {},
   "outputs": [
    {
     "data": {
      "text/plain": [
       "18"
      ]
     },
     "execution_count": 17,
     "metadata": {},
     "output_type": "execute_result"
    }
   ],
   "source": [
    "a3.size"
   ]
  },
  {
   "cell_type": "code",
   "execution_count": 18,
   "id": "24121e99",
   "metadata": {},
   "outputs": [],
   "source": [
    "ones = np.ones (3,)"
   ]
  },
  {
   "cell_type": "code",
   "execution_count": 19,
   "id": "c57a51e3",
   "metadata": {},
   "outputs": [],
   "source": [
    "arr_1 = np.array([2,4,1])"
   ]
  },
  {
   "cell_type": "code",
   "execution_count": 20,
   "id": "c06a378c",
   "metadata": {},
   "outputs": [
    {
     "data": {
      "text/plain": [
       "array([3., 5., 2.])"
      ]
     },
     "execution_count": 20,
     "metadata": {},
     "output_type": "execute_result"
    }
   ],
   "source": [
    "ones + arr_1\n"
   ]
  },
  {
   "cell_type": "code",
   "execution_count": 21,
   "id": "288a6bb9",
   "metadata": {},
   "outputs": [],
   "source": [
    "range_array = np.arange(2,7,3)"
   ]
  },
  {
   "cell_type": "code",
   "execution_count": 22,
   "id": "2700bd3d",
   "metadata": {},
   "outputs": [
    {
     "data": {
      "text/plain": [
       "array([2, 5])"
      ]
     },
     "execution_count": 22,
     "metadata": {},
     "output_type": "execute_result"
    }
   ],
   "source": [
    "range_array"
   ]
  },
  {
   "cell_type": "code",
   "execution_count": 23,
   "id": "f861bca8",
   "metadata": {},
   "outputs": [],
   "source": [
    "random_int_array = np.random.randint(2, 10, (2,3))"
   ]
  },
  {
   "cell_type": "code",
   "execution_count": 24,
   "id": "f36e62ee",
   "metadata": {},
   "outputs": [
    {
     "data": {
      "text/plain": [
       "array([[4, 9, 5],\n",
       "       [7, 9, 6]])"
      ]
     },
     "execution_count": 24,
     "metadata": {},
     "output_type": "execute_result"
    }
   ],
   "source": [
    "random_int_array"
   ]
  },
  {
   "cell_type": "code",
   "execution_count": 29,
   "id": "c0107702",
   "metadata": {},
   "outputs": [
    {
     "data": {
      "text/plain": [
       "array([[[[0.22199317, 0.87073231, 0.20671916, 0.91861091],\n",
       "         [0.48841119, 0.61174386, 0.76590786, 0.51841799],\n",
       "         [0.2968005 , 0.18772123, 0.08074127, 0.7384403 ]],\n",
       "\n",
       "        [[0.44130922, 0.15830987, 0.87993703, 0.27408646],\n",
       "         [0.41423502, 0.29607993, 0.62878791, 0.57983781],\n",
       "         [0.5999292 , 0.26581912, 0.28468588, 0.25358821]],\n",
       "\n",
       "        [[0.32756395, 0.1441643 , 0.16561286, 0.96393053],\n",
       "         [0.96022672, 0.18841466, 0.02430656, 0.20455555],\n",
       "         [0.69984361, 0.77951459, 0.02293309, 0.57766286]],\n",
       "\n",
       "        [[0.00164217, 0.51547261, 0.63979518, 0.9856244 ],\n",
       "         [0.2590976 , 0.80249689, 0.87048309, 0.92274961],\n",
       "         [0.00221421, 0.46948837, 0.98146874, 0.3989448 ]]],\n",
       "\n",
       "\n",
       "       [[[0.81373248, 0.5464565 , 0.77085409, 0.48493107],\n",
       "         [0.02911156, 0.08652569, 0.11145381, 0.25124511],\n",
       "         [0.96491529, 0.63176605, 0.8166602 , 0.566082  ]],\n",
       "\n",
       "        [[0.63535621, 0.81190239, 0.92668262, 0.91262676],\n",
       "         [0.82481072, 0.09420273, 0.36104842, 0.03550903],\n",
       "         [0.54635835, 0.79614272, 0.0511428 , 0.18866774]],\n",
       "\n",
       "        [[0.36547777, 0.24429087, 0.79508747, 0.35209494],\n",
       "         [0.63887768, 0.49341505, 0.58349974, 0.93929935],\n",
       "         [0.94354008, 0.11169243, 0.84355497, 0.34602815]],\n",
       "\n",
       "        [[0.10082727, 0.38340907, 0.5103548 , 0.96110308],\n",
       "         [0.37151262, 0.01236941, 0.85970689, 0.11111075],\n",
       "         [0.47833904, 0.84998003, 0.51473797, 0.44660783]]]])"
      ]
     },
     "execution_count": 29,
     "metadata": {},
     "output_type": "execute_result"
    }
   ],
   "source": [
    "np.random.seed(5)\n",
    "random_array = np.random.rand(2,4,3,4)\n",
    "random_array"
   ]
  },
  {
   "cell_type": "code",
   "execution_count": 30,
   "id": "a46ac352",
   "metadata": {},
   "outputs": [
    {
     "data": {
      "text/plain": [
       "array([[[8, 5, 9],\n",
       "        [7, 9, 1],\n",
       "        [6, 4, 5]],\n",
       "\n",
       "       [[1, 3, 3],\n",
       "        [2, 2, 8],\n",
       "        [2, 8, 3]]])"
      ]
     },
     "execution_count": 30,
     "metadata": {},
     "output_type": "execute_result"
    }
   ],
   "source": [
    "a3 = np.random.randint(1, 10, (2,3,3))\n",
    "a3"
   ]
  },
  {
   "cell_type": "code",
   "execution_count": 36,
   "id": "ef3e7192",
   "metadata": {},
   "outputs": [
    {
     "data": {
      "text/plain": [
       "array([[[8]]])"
      ]
     },
     "execution_count": 36,
     "metadata": {},
     "output_type": "execute_result"
    }
   ],
   "source": [
    "a3[:1, :1, :1]"
   ]
  },
  {
   "cell_type": "code",
   "execution_count": 43,
   "id": "4b7e94a8",
   "metadata": {},
   "outputs": [
    {
     "data": {
      "text/plain": [
       "((2, 2, 2), (2, 3, 3))"
      ]
     },
     "execution_count": 43,
     "metadata": {},
     "output_type": "execute_result"
    }
   ],
   "source": [
    "a3[:2, :2, :2].shape , a3.shape"
   ]
  },
  {
   "cell_type": "code",
   "execution_count": 44,
   "id": "e3885e20",
   "metadata": {},
   "outputs": [
    {
     "data": {
      "text/plain": [
       "array([[[[7, 4, 7, 9, 1],\n",
       "         [2, 1, 9, 8, 8],\n",
       "         [5, 2, 5, 3, 2],\n",
       "         [8, 6, 5, 3, 3]],\n",
       "\n",
       "        [[2, 3, 4, 2, 3],\n",
       "         [5, 1, 2, 3, 4],\n",
       "         [9, 6, 6, 5, 4],\n",
       "         [6, 7, 6, 2, 2]],\n",
       "\n",
       "        [[1, 9, 1, 6, 4],\n",
       "         [4, 1, 4, 8, 4],\n",
       "         [8, 4, 3, 7, 7],\n",
       "         [3, 8, 1, 4, 8]]],\n",
       "\n",
       "\n",
       "       [[[6, 2, 7, 8, 4],\n",
       "         [8, 8, 7, 7, 5],\n",
       "         [6, 5, 1, 1, 2],\n",
       "         [6, 4, 2, 8, 1]],\n",
       "\n",
       "        [[9, 4, 5, 5, 7],\n",
       "         [8, 7, 1, 8, 2],\n",
       "         [4, 4, 4, 4, 6],\n",
       "         [2, 1, 1, 3, 3]],\n",
       "\n",
       "        [[9, 2, 9, 7, 8],\n",
       "         [7, 2, 9, 3, 5],\n",
       "         [6, 2, 9, 7, 2],\n",
       "         [6, 2, 9, 9, 9]]]])"
      ]
     },
     "execution_count": 44,
     "metadata": {},
     "output_type": "execute_result"
    }
   ],
   "source": [
    "a5 = np.random.randint(1, 10, (2,3,4,5))\n",
    "a5"
   ]
  },
  {
   "cell_type": "code",
   "execution_count": 49,
   "id": "9d82e829",
   "metadata": {},
   "outputs": [
    {
     "data": {
      "text/plain": [
       "array([[[[7, 4, 7, 9],\n",
       "         [2, 1, 9, 8],\n",
       "         [5, 2, 5, 3],\n",
       "         [8, 6, 5, 3]],\n",
       "\n",
       "        [[2, 3, 4, 2],\n",
       "         [5, 1, 2, 3],\n",
       "         [9, 6, 6, 5],\n",
       "         [6, 7, 6, 2]],\n",
       "\n",
       "        [[1, 9, 1, 6],\n",
       "         [4, 1, 4, 8],\n",
       "         [8, 4, 3, 7],\n",
       "         [3, 8, 1, 4]]],\n",
       "\n",
       "\n",
       "       [[[6, 2, 7, 8],\n",
       "         [8, 8, 7, 7],\n",
       "         [6, 5, 1, 1],\n",
       "         [6, 4, 2, 8]],\n",
       "\n",
       "        [[9, 4, 5, 5],\n",
       "         [8, 7, 1, 8],\n",
       "         [4, 4, 4, 4],\n",
       "         [2, 1, 1, 3]],\n",
       "\n",
       "        [[9, 2, 9, 7],\n",
       "         [7, 2, 9, 3],\n",
       "         [6, 2, 9, 7],\n",
       "         [6, 2, 9, 9]]]])"
      ]
     },
     "execution_count": 49,
     "metadata": {},
     "output_type": "execute_result"
    }
   ],
   "source": [
    "a5[:, :, : , :4]"
   ]
  },
  {
   "cell_type": "code",
   "execution_count": 50,
   "id": "c2fb8b3f",
   "metadata": {},
   "outputs": [],
   "source": [
    "high_var = np.array([1, 100, 200, 300, 4000, 6000, 7000])\n",
    "low_var = np.array([1,3,5,7,9])"
   ]
  },
  {
   "cell_type": "code",
   "execution_count": 51,
   "id": "8d9c10e3",
   "metadata": {},
   "outputs": [
    {
     "data": {
      "text/plain": [
       "(2850.6526499404035, 2.8284271247461903)"
      ]
     },
     "execution_count": 51,
     "metadata": {},
     "output_type": "execute_result"
    }
   ],
   "source": [
    "np.std(high_var), np.std(low_var)"
   ]
  },
  {
   "cell_type": "code",
   "execution_count": 52,
   "id": "da12d5a5",
   "metadata": {},
   "outputs": [],
   "source": [
    "import matplotlib.pyplot as plt"
   ]
  },
  {
   "cell_type": "code",
   "execution_count": 53,
   "id": "63dd5191",
   "metadata": {},
   "outputs": [
    {
     "data": {
      "text/plain": [
       "(array([4., 0., 0., 0., 0., 1., 0., 0., 1., 1.]),\n",
       " array([1.0000e+00, 7.0090e+02, 1.4008e+03, 2.1007e+03, 2.8006e+03,\n",
       "        3.5005e+03, 4.2004e+03, 4.9003e+03, 5.6002e+03, 6.3001e+03,\n",
       "        7.0000e+03]),\n",
       " <BarContainer object of 10 artists>)"
      ]
     },
     "execution_count": 53,
     "metadata": {},
     "output_type": "execute_result"
    },
    {
     "data": {
      "image/png": "[encoded data removed]",
      "text/plain": [
       "<Figure size 640x480 with 1 Axes>"
      ]
     },
     "metadata": {},
     "output_type": "display_data"
    }
   ],
   "source": [
    "plt.hist(high_var)"
   ]
  },
  {
   "cell_type": "code",
   "execution_count": 55,
   "id": "eeade58e",
   "metadata": {},
   "outputs": [
    {
     "data": {
      "text/plain": [
       "array([[4, 4, 8],\n",
       "       [1, 9, 8]])"
      ]
     },
     "execution_count": 55,
     "metadata": {},
     "output_type": "execute_result"
    }
   ],
   "source": [
    "a2 = np.random.randint(1,10, (2,3))\n",
    "a2"
   ]
  },
  {
   "cell_type": "code",
   "execution_count": 56,
   "id": "f3c7bfd2",
   "metadata": {},
   "outputs": [
    {
     "data": {
      "text/plain": [
       "array([[[4],\n",
       "        [4],\n",
       "        [8]],\n",
       "\n",
       "       [[1],\n",
       "        [9],\n",
       "        [8]]])"
      ]
     },
     "execution_count": 56,
     "metadata": {},
     "output_type": "execute_result"
    }
   ],
   "source": [
    "a2.reshape(2,3,1)\n"
   ]
  },
  {
   "cell_type": "code",
   "execution_count": 57,
   "id": "cedd73ab",
   "metadata": {},
   "outputs": [
    {
     "data": {
      "text/plain": [
       "array([[[8, 5, 9],\n",
       "        [7, 9, 1],\n",
       "        [6, 4, 5]],\n",
       "\n",
       "       [[1, 3, 3],\n",
       "        [2, 2, 8],\n",
       "        [2, 8, 3]]])"
      ]
     },
     "execution_count": 57,
     "metadata": {},
     "output_type": "execute_result"
    }
   ],
   "source": [
    "a3"
   ]
  },
  {
   "cell_type": "code",
   "execution_count": 59,
   "id": "e7bc30a7",
   "metadata": {},
   "outputs": [
    {
     "data": {
      "text/plain": [
       "array([[[[1., 1., 1., 1., 1.],\n",
       "         [1., 1., 1., 1., 1.],\n",
       "         [1., 1., 1., 1., 1.],\n",
       "         [1., 1., 1., 1., 1.]],\n",
       "\n",
       "        [[1., 1., 1., 1., 1.],\n",
       "         [1., 1., 1., 1., 1.],\n",
       "         [1., 1., 1., 1., 1.],\n",
       "         [1., 1., 1., 1., 1.]],\n",
       "\n",
       "        [[1., 1., 1., 1., 1.],\n",
       "         [1., 1., 1., 1., 1.],\n",
       "         [1., 1., 1., 1., 1.],\n",
       "         [1., 1., 1., 1., 1.]]],\n",
       "\n",
       "\n",
       "       [[[1., 1., 1., 1., 1.],\n",
       "         [1., 1., 1., 1., 1.],\n",
       "         [1., 1., 1., 1., 1.],\n",
       "         [1., 1., 1., 1., 1.]],\n",
       "\n",
       "        [[1., 1., 1., 1., 1.],\n",
       "         [1., 1., 1., 1., 1.],\n",
       "         [1., 1., 1., 1., 1.],\n",
       "         [1., 1., 1., 1., 1.]],\n",
       "\n",
       "        [[1., 1., 1., 1., 1.],\n",
       "         [1., 1., 1., 1., 1.],\n",
       "         [1., 1., 1., 1., 1.],\n",
       "         [1., 1., 1., 1., 1.]]]])"
      ]
     },
     "execution_count": 59,
     "metadata": {},
     "output_type": "execute_result"
    }
   ],
   "source": [
    "a4 = np.ones((2,3,4,5))\n",
    "a4"
   ]
  },
  {
   "cell_type": "code",
   "execution_count": 60,
   "id": "f0bb69de",
   "metadata": {},
   "outputs": [
    {
     "data": {
      "text/plain": [
       "(2, 3, 4, 5)"
      ]
     },
     "execution_count": 60,
     "metadata": {},
     "output_type": "execute_result"
    }
   ],
   "source": [
    "a4.shape"
   ]
  },
  {
   "cell_type": "code",
   "execution_count": 61,
   "id": "a5bb61fa",
   "metadata": {},
   "outputs": [
    {
     "data": {
      "text/plain": [
       "(5, 4, 3, 2)"
      ]
     },
     "execution_count": 61,
     "metadata": {},
     "output_type": "execute_result"
    }
   ],
   "source": [
    "a4.T.shape"
   ]
  },
  {
   "cell_type": "code",
   "execution_count": 62,
   "id": "1c2e52c5",
   "metadata": {},
   "outputs": [
    {
     "data": {
      "text/plain": [
       "array([[[[1., 1.],\n",
       "         [1., 1.],\n",
       "         [1., 1.]],\n",
       "\n",
       "        [[1., 1.],\n",
       "         [1., 1.],\n",
       "         [1., 1.]],\n",
       "\n",
       "        [[1., 1.],\n",
       "         [1., 1.],\n",
       "         [1., 1.]],\n",
       "\n",
       "        [[1., 1.],\n",
       "         [1., 1.],\n",
       "         [1., 1.]]],\n",
       "\n",
       "\n",
       "       [[[1., 1.],\n",
       "         [1., 1.],\n",
       "         [1., 1.]],\n",
       "\n",
       "        [[1., 1.],\n",
       "         [1., 1.],\n",
       "         [1., 1.]],\n",
       "\n",
       "        [[1., 1.],\n",
       "         [1., 1.],\n",
       "         [1., 1.]],\n",
       "\n",
       "        [[1., 1.],\n",
       "         [1., 1.],\n",
       "         [1., 1.]]],\n",
       "\n",
       "\n",
       "       [[[1., 1.],\n",
       "         [1., 1.],\n",
       "         [1., 1.]],\n",
       "\n",
       "        [[1., 1.],\n",
       "         [1., 1.],\n",
       "         [1., 1.]],\n",
       "\n",
       "        [[1., 1.],\n",
       "         [1., 1.],\n",
       "         [1., 1.]],\n",
       "\n",
       "        [[1., 1.],\n",
       "         [1., 1.],\n",
       "         [1., 1.]]],\n",
       "\n",
       "\n",
       "       [[[1., 1.],\n",
       "         [1., 1.],\n",
       "         [1., 1.]],\n",
       "\n",
       "        [[1., 1.],\n",
       "         [1., 1.],\n",
       "         [1., 1.]],\n",
       "\n",
       "        [[1., 1.],\n",
       "         [1., 1.],\n",
       "         [1., 1.]],\n",
       "\n",
       "        [[1., 1.],\n",
       "         [1., 1.],\n",
       "         [1., 1.]]],\n",
       "\n",
       "\n",
       "       [[[1., 1.],\n",
       "         [1., 1.],\n",
       "         [1., 1.]],\n",
       "\n",
       "        [[1., 1.],\n",
       "         [1., 1.],\n",
       "         [1., 1.]],\n",
       "\n",
       "        [[1., 1.],\n",
       "         [1., 1.],\n",
       "         [1., 1.]],\n",
       "\n",
       "        [[1., 1.],\n",
       "         [1., 1.],\n",
       "         [1., 1.]]]])"
      ]
     },
     "execution_count": 62,
     "metadata": {},
     "output_type": "execute_result"
    }
   ],
   "source": [
    "a4.T\n"
   ]
  },
  {
   "cell_type": "code",
   "execution_count": 84,
   "id": "776ac502",
   "metadata": {},
   "outputs": [
    {
     "data": {
      "text/plain": [
       "array([[[2, 2, 7, 2, 9],\n",
       "        [5, 3, 3, 8, 2],\n",
       "        [6, 9, 7, 1, 8],\n",
       "        [2, 1, 3, 2, 9]],\n",
       "\n",
       "       [[6, 2, 5, 1, 3],\n",
       "        [7, 1, 4, 3, 6],\n",
       "        [7, 2, 2, 6, 5],\n",
       "        [7, 6, 7, 1, 2]],\n",
       "\n",
       "       [[6, 4, 4, 3, 1],\n",
       "        [7, 7, 2, 3, 2],\n",
       "        [3, 9, 5, 8, 9],\n",
       "        [4, 9, 3, 9, 1]]])"
      ]
     },
     "execution_count": 84,
     "metadata": {},
     "output_type": "execute_result"
    }
   ],
   "source": [
    "a2 = np.random.randint (1, 10, (3,4,5))\n",
    "a2"
   ]
  },
  {
   "cell_type": "code",
   "execution_count": 87,
   "id": "9c2a524e",
   "metadata": {},
   "outputs": [
    {
     "data": {
      "text/plain": [
       "array([[[[6, 9, 6, ..., 6, 2, 6],\n",
       "         [2, 4, 7, ..., 9, 5, 2],\n",
       "         [9, 4, 2, ..., 8, 4, 9],\n",
       "         [6, 5, 7, ..., 8, 8, 8],\n",
       "         [4, 8, 7, ..., 5, 5, 6]],\n",
       "\n",
       "        [[2, 9, 8, ..., 7, 2, 5],\n",
       "         [7, 7, 3, ..., 7, 4, 4],\n",
       "         [9, 3, 5, ..., 3, 7, 8],\n",
       "         [3, 2, 4, ..., 6, 6, 6],\n",
       "         [5, 5, 6, ..., 6, 6, 7]],\n",
       "\n",
       "        [[1, 8, 7, ..., 9, 1, 3],\n",
       "         [5, 2, 7, ..., 6, 2, 2],\n",
       "         [5, 1, 5, ..., 3, 2, 1],\n",
       "         [3, 3, 2, ..., 9, 5, 2],\n",
       "         [3, 4, 3, ..., 3, 5, 6]],\n",
       "\n",
       "        ...,\n",
       "\n",
       "        [[3, 9, 1, ..., 1, 7, 5],\n",
       "         [5, 3, 6, ..., 1, 8, 2],\n",
       "         [8, 4, 7, ..., 1, 9, 9],\n",
       "         [8, 1, 5, ..., 4, 7, 7],\n",
       "         [2, 4, 7, ..., 8, 9, 4]],\n",
       "\n",
       "        [[1, 4, 7, ..., 7, 7, 5],\n",
       "         [8, 4, 2, ..., 2, 8, 7],\n",
       "         [4, 7, 6, ..., 7, 6, 7],\n",
       "         [7, 3, 5, ..., 3, 7, 3],\n",
       "         [5, 7, 3, ..., 1, 5, 3]],\n",
       "\n",
       "        [[8, 5, 8, ..., 3, 4, 8],\n",
       "         [2, 2, 2, ..., 7, 7, 3],\n",
       "         [2, 7, 4, ..., 9, 6, 4],\n",
       "         [5, 3, 1, ..., 7, 1, 4],\n",
       "         [8, 8, 8, ..., 9, 7, 4]]],\n",
       "\n",
       "\n",
       "       [[[3, 2, 6, ..., 5, 7, 5],\n",
       "         [8, 3, 7, ..., 3, 3, 9],\n",
       "         [8, 6, 5, ..., 7, 2, 1],\n",
       "         [1, 8, 5, ..., 9, 8, 5],\n",
       "         [1, 9, 9, ..., 7, 2, 6]],\n",
       "\n",
       "        [[4, 9, 6, ..., 6, 2, 2],\n",
       "         [4, 8, 8, ..., 7, 9, 2],\n",
       "         [4, 9, 9, ..., 1, 3, 7],\n",
       "         [7, 1, 5, ..., 2, 5, 9],\n",
       "         [1, 4, 7, ..., 9, 7, 2]],\n",
       "\n",
       "        [[8, 9, 5, ..., 1, 6, 4],\n",
       "         [8, 1, 1, ..., 9, 4, 4],\n",
       "         [5, 7, 4, ..., 4, 1, 1],\n",
       "         [3, 6, 8, ..., 2, 3, 3],\n",
       "         [2, 7, 6, ..., 4, 3, 1]],\n",
       "\n",
       "        ...,\n",
       "\n",
       "        [[1, 7, 9, ..., 4, 2, 9],\n",
       "         [4, 9, 1, ..., 8, 3, 6],\n",
       "         [6, 1, 4, ..., 6, 1, 8],\n",
       "         [7, 9, 9, ..., 6, 4, 6],\n",
       "         [3, 6, 4, ..., 8, 4, 8]],\n",
       "\n",
       "        [[1, 8, 3, ..., 5, 5, 9],\n",
       "         [8, 9, 3, ..., 8, 2, 9],\n",
       "         [9, 6, 4, ..., 9, 3, 5],\n",
       "         [7, 9, 3, ..., 4, 7, 5],\n",
       "         [5, 7, 1, ..., 5, 1, 3]],\n",
       "\n",
       "        [[7, 6, 5, ..., 9, 2, 8],\n",
       "         [5, 1, 1, ..., 6, 9, 7],\n",
       "         [3, 8, 5, ..., 1, 8, 1],\n",
       "         [2, 4, 9, ..., 8, 7, 2],\n",
       "         [9, 1, 4, ..., 6, 2, 8]]],\n",
       "\n",
       "\n",
       "       [[[2, 4, 5, ..., 9, 8, 5],\n",
       "         [5, 9, 9, ..., 3, 5, 9],\n",
       "         [7, 4, 4, ..., 2, 1, 4],\n",
       "         [5, 7, 4, ..., 8, 2, 6],\n",
       "         [8, 6, 8, ..., 7, 9, 8]],\n",
       "\n",
       "        [[6, 8, 2, ..., 6, 8, 8],\n",
       "         [6, 2, 3, ..., 1, 9, 2],\n",
       "         [2, 9, 6, ..., 2, 1, 4],\n",
       "         [1, 3, 1, ..., 8, 2, 8],\n",
       "         [1, 2, 3, ..., 5, 5, 3]],\n",
       "\n",
       "        [[1, 6, 4, ..., 1, 6, 5],\n",
       "         [6, 1, 2, ..., 2, 8, 1],\n",
       "         [4, 5, 9, ..., 4, 6, 6],\n",
       "         [4, 9, 8, ..., 6, 5, 1],\n",
       "         [5, 7, 7, ..., 2, 8, 9]],\n",
       "\n",
       "        ...,\n",
       "\n",
       "        [[5, 2, 3, ..., 9, 6, 8],\n",
       "         [4, 3, 5, ..., 6, 1, 1],\n",
       "         [3, 4, 4, ..., 3, 8, 7],\n",
       "         [5, 2, 3, ..., 7, 4, 3],\n",
       "         [7, 9, 9, ..., 2, 9, 1]],\n",
       "\n",
       "        [[3, 8, 2, ..., 3, 8, 6],\n",
       "         [9, 4, 8, ..., 2, 7, 8],\n",
       "         [6, 1, 9, ..., 8, 6, 8],\n",
       "         [7, 1, 2, ..., 5, 7, 3],\n",
       "         [9, 1, 8, ..., 5, 3, 4]],\n",
       "\n",
       "        [[4, 1, 7, ..., 1, 5, 3],\n",
       "         [5, 5, 2, ..., 9, 6, 7],\n",
       "         [6, 8, 3, ..., 8, 4, 8],\n",
       "         [6, 7, 7, ..., 5, 3, 4],\n",
       "         [5, 5, 5, ..., 9, 6, 4]]],\n",
       "\n",
       "\n",
       "       [[[4, 5, 4, ..., 9, 9, 2],\n",
       "         [5, 2, 8, ..., 2, 8, 7],\n",
       "         [1, 9, 1, ..., 2, 5, 7],\n",
       "         [8, 5, 1, ..., 2, 1, 7],\n",
       "         [8, 9, 3, ..., 3, 5, 7]],\n",
       "\n",
       "        [[2, 2, 8, ..., 3, 9, 5],\n",
       "         [1, 7, 7, ..., 7, 9, 6],\n",
       "         [6, 7, 5, ..., 3, 6, 3],\n",
       "         [3, 9, 4, ..., 8, 1, 1],\n",
       "         [5, 7, 4, ..., 1, 2, 9]],\n",
       "\n",
       "        [[2, 2, 6, ..., 7, 7, 4],\n",
       "         [9, 3, 4, ..., 5, 2, 7],\n",
       "         [1, 9, 2, ..., 8, 7, 6],\n",
       "         [2, 8, 1, ..., 7, 5, 9],\n",
       "         [9, 5, 8, ..., 5, 1, 8]],\n",
       "\n",
       "        ...,\n",
       "\n",
       "        [[7, 9, 7, ..., 4, 2, 3],\n",
       "         [5, 8, 1, ..., 4, 9, 7],\n",
       "         [2, 8, 2, ..., 3, 6, 6],\n",
       "         [1, 9, 7, ..., 1, 4, 4],\n",
       "         [3, 1, 7, ..., 1, 6, 9]],\n",
       "\n",
       "        [[6, 4, 2, ..., 5, 9, 6],\n",
       "         [7, 1, 2, ..., 3, 6, 2],\n",
       "         [8, 4, 7, ..., 6, 8, 8],\n",
       "         [6, 7, 4, ..., 7, 3, 6],\n",
       "         [9, 9, 3, ..., 8, 5, 3]],\n",
       "\n",
       "        [[9, 9, 9, ..., 3, 5, 1],\n",
       "         [3, 7, 4, ..., 5, 4, 7],\n",
       "         [1, 5, 7, ..., 2, 7, 9],\n",
       "         [2, 2, 2, ..., 6, 2, 7],\n",
       "         [7, 1, 1, ..., 7, 5, 9]]],\n",
       "\n",
       "\n",
       "       [[[3, 9, 3, ..., 5, 1, 6],\n",
       "         [4, 4, 4, ..., 6, 7, 1],\n",
       "         [2, 8, 8, ..., 7, 1, 8],\n",
       "         [6, 2, 7, ..., 3, 6, 6],\n",
       "         [7, 4, 1, ..., 6, 5, 6]],\n",
       "\n",
       "        [[1, 6, 7, ..., 5, 4, 3],\n",
       "         [7, 9, 7, ..., 7, 4, 5],\n",
       "         [9, 9, 4, ..., 8, 1, 9],\n",
       "         [5, 2, 4, ..., 8, 6, 9],\n",
       "         [6, 4, 5, ..., 8, 8, 4]],\n",
       "\n",
       "        [[2, 8, 9, ..., 4, 8, 8],\n",
       "         [5, 6, 8, ..., 1, 8, 7],\n",
       "         [9, 4, 3, ..., 4, 5, 7],\n",
       "         [7, 3, 4, ..., 4, 2, 7],\n",
       "         [8, 9, 7, ..., 8, 2, 9]],\n",
       "\n",
       "        ...,\n",
       "\n",
       "        [[7, 3, 4, ..., 5, 5, 2],\n",
       "         [1, 3, 2, ..., 7, 8, 8],\n",
       "         [3, 3, 5, ..., 5, 1, 4],\n",
       "         [4, 6, 9, ..., 9, 4, 4],\n",
       "         [7, 4, 3, ..., 9, 6, 6]],\n",
       "\n",
       "        [[8, 2, 4, ..., 7, 1, 6],\n",
       "         [2, 7, 8, ..., 1, 9, 4],\n",
       "         [5, 7, 8, ..., 5, 7, 4],\n",
       "         [1, 7, 5, ..., 1, 9, 2],\n",
       "         [6, 8, 6, ..., 4, 4, 2]],\n",
       "\n",
       "        [[5, 1, 8, ..., 5, 7, 3],\n",
       "         [5, 8, 3, ..., 9, 1, 6],\n",
       "         [4, 3, 2, ..., 1, 9, 9],\n",
       "         [9, 3, 3, ..., 9, 6, 8],\n",
       "         [5, 1, 6, ..., 7, 4, 4]]],\n",
       "\n",
       "\n",
       "       [[[6, 6, 5, ..., 3, 2, 8],\n",
       "         [7, 6, 4, ..., 6, 9, 8],\n",
       "         [5, 7, 4, ..., 6, 3, 9],\n",
       "         [7, 4, 7, ..., 7, 7, 6],\n",
       "         [2, 6, 9, ..., 1, 6, 6]],\n",
       "\n",
       "        [[3, 2, 4, ..., 5, 1, 2],\n",
       "         [5, 2, 4, ..., 6, 2, 7],\n",
       "         [4, 5, 6, ..., 9, 9, 9],\n",
       "         [2, 7, 3, ..., 7, 4, 7],\n",
       "         [5, 4, 8, ..., 8, 3, 8]],\n",
       "\n",
       "        [[2, 6, 4, ..., 1, 9, 5],\n",
       "         [8, 5, 1, ..., 2, 9, 6],\n",
       "         [1, 7, 4, ..., 9, 3, 3],\n",
       "         [9, 5, 3, ..., 2, 2, 4],\n",
       "         [2, 7, 9, ..., 1, 2, 8]],\n",
       "\n",
       "        ...,\n",
       "\n",
       "        [[4, 7, 3, ..., 7, 8, 1],\n",
       "         [6, 2, 9, ..., 4, 7, 2],\n",
       "         [1, 7, 5, ..., 2, 8, 3],\n",
       "         [4, 7, 4, ..., 6, 2, 7],\n",
       "         [1, 2, 7, ..., 9, 9, 2]],\n",
       "\n",
       "        [[5, 1, 4, ..., 6, 9, 5],\n",
       "         [2, 1, 6, ..., 3, 4, 8],\n",
       "         [7, 6, 5, ..., 7, 4, 2],\n",
       "         [3, 3, 2, ..., 7, 2, 7],\n",
       "         [2, 5, 9, ..., 3, 4, 1]],\n",
       "\n",
       "        [[3, 9, 3, ..., 5, 2, 7],\n",
       "         [6, 8, 7, ..., 6, 1, 2],\n",
       "         [6, 9, 5, ..., 4, 8, 1],\n",
       "         [4, 5, 8, ..., 1, 5, 3],\n",
       "         [6, 3, 2, ..., 4, 1, 8]]]])"
      ]
     },
     "execution_count": 87,
     "metadata": {},
     "output_type": "execute_result"
    }
   ],
   "source": [
    "a1 = np.random.randint (1, 10, (6,7,5,9))\n",
    "a1"
   ]
  },
  {
   "cell_type": "code",
   "execution_count": 89,
   "id": "c6ae5dae",
   "metadata": {},
   "outputs": [],
   "source": [
    "a3 = np.dot(a2, a1)"
   ]
  },
  {
   "cell_type": "code",
   "execution_count": 90,
   "id": "3f80f5cd",
   "metadata": {},
   "outputs": [
    {
     "data": {
      "text/plain": [
       "(3, 4, 6, 7, 9)"
      ]
     },
     "execution_count": 90,
     "metadata": {},
     "output_type": "execute_result"
    }
   ],
   "source": [
    "a3.shape"
   ]
  },
  {
   "cell_type": "markdown",
   "id": "18e19779",
   "metadata": {},
   "source": [
    "## Excercise of .dot() matrices"
   ]
  },
  {
   "cell_type": "code",
   "execution_count": 91,
   "id": "bd8d1fab",
   "metadata": {},
   "outputs": [],
   "source": [
    "import pandas as pd"
   ]
  },
  {
   "cell_type": "code",
   "execution_count": 92,
   "id": "f3ab7a26",
   "metadata": {},
   "outputs": [
    {
     "data": {
      "text/plain": [
       "array([[ 2,  7,  1],\n",
       "       [ 9,  4, 16],\n",
       "       [11, 14, 25],\n",
       "       [13, 13,  3],\n",
       "       [15, 18,  5],\n",
       "       [52, 20,  4],\n",
       "       [12, 25, 78]])"
      ]
     },
     "execution_count": 92,
     "metadata": {},
     "output_type": "execute_result"
    }
   ],
   "source": [
    "sale_data = np.array([\n",
    "    [2,7,1],\n",
    "    [9,4,16],\n",
    "    [11,14,25],\n",
    "    [13,13,3],\n",
    "    [15,18,5],\n",
    "    [52,20,4],\n",
    "    [12,25,78]\n",
    "])\n",
    "sale_data"
   ]
  },
  {
   "cell_type": "code",
   "execution_count": 93,
   "id": "00c936d9",
   "metadata": {},
   "outputs": [
    {
     "data": {
      "text/plain": [
       "array([10,  8, 12])"
      ]
     },
     "execution_count": 93,
     "metadata": {},
     "output_type": "execute_result"
    }
   ],
   "source": [
    "price_data = np.array([10,8,12])\n",
    "price_data"
   ]
  },
  {
   "cell_type": "code",
   "execution_count": 162,
   "id": "065ad108",
   "metadata": {},
   "outputs": [
    {
     "data": {
      "text/html": [
       "<div>\n",
       "<style scoped>\n",
       "    .dataframe tbody tr th:only-of-type {\n",
       "        vertical-align: middle;\n",
       "    }\n",
       "\n",
       "    .dataframe tbody tr th {\n",
       "        vertical-align: top;\n",
       "    }\n",
       "\n",
       "    .dataframe thead th {\n",
       "        text-align: right;\n",
       "    }\n",
       "</style>\n",
       "<table border=\"1\" class=\"dataframe\">\n",
       "  <thead>\n",
       "    <tr style=\"text-align: right;\">\n",
       "      <th></th>\n",
       "      <th>Almond</th>\n",
       "      <th>Peanut</th>\n",
       "      <th>Cashew</th>\n",
       "    </tr>\n",
       "  </thead>\n",
       "  <tbody>\n",
       "    <tr>\n",
       "      <th>Mon</th>\n",
       "      <td>2</td>\n",
       "      <td>7</td>\n",
       "      <td>1</td>\n",
       "    </tr>\n",
       "    <tr>\n",
       "      <th>Tues</th>\n",
       "      <td>9</td>\n",
       "      <td>4</td>\n",
       "      <td>16</td>\n",
       "    </tr>\n",
       "    <tr>\n",
       "      <th>Wed</th>\n",
       "      <td>11</td>\n",
       "      <td>14</td>\n",
       "      <td>25</td>\n",
       "    </tr>\n",
       "    <tr>\n",
       "      <th>Thurs</th>\n",
       "      <td>13</td>\n",
       "      <td>13</td>\n",
       "      <td>3</td>\n",
       "    </tr>\n",
       "    <tr>\n",
       "      <th>Fri</th>\n",
       "      <td>15</td>\n",
       "      <td>18</td>\n",
       "      <td>5</td>\n",
       "    </tr>\n",
       "    <tr>\n",
       "      <th>Sat</th>\n",
       "      <td>52</td>\n",
       "      <td>20</td>\n",
       "      <td>4</td>\n",
       "    </tr>\n",
       "    <tr>\n",
       "      <th>Sun</th>\n",
       "      <td>12</td>\n",
       "      <td>25</td>\n",
       "      <td>78</td>\n",
       "    </tr>\n",
       "  </tbody>\n",
       "</table>\n",
       "</div>"
      ],
      "text/plain": [
       "       Almond  Peanut  Cashew\n",
       "Mon         2       7       1\n",
       "Tues        9       4      16\n",
       "Wed        11      14      25\n",
       "Thurs      13      13       3\n",
       "Fri        15      18       5\n",
       "Sat        52      20       4\n",
       "Sun        12      25      78"
      ]
     },
     "execution_count": 162,
     "metadata": {},
     "output_type": "execute_result"
    }
   ],
   "source": [
    "sale_df = pd.DataFrame(sale_data, index=['Mon', 'Tues', 'Wed', 'Thurs', 'Fri', 'Sat', 'Sun'], columns=['Almond', 'Peanut', 'Cashew'])\n",
    "sale_df"
   ]
  },
  {
   "cell_type": "code",
   "execution_count": 99,
   "id": "fea9b2d3",
   "metadata": {},
   "outputs": [
    {
     "data": {
      "text/plain": [
       "((7, 3), (7, 3))"
      ]
     },
     "execution_count": 99,
     "metadata": {},
     "output_type": "execute_result"
    }
   ],
   "source": [
    "sale_df.shape, sale_data.shape"
   ]
  },
  {
   "cell_type": "code",
   "execution_count": 102,
   "id": "97d04a09",
   "metadata": {},
   "outputs": [
    {
     "data": {
      "text/plain": [
       "(3,)"
      ]
     },
     "execution_count": 102,
     "metadata": {},
     "output_type": "execute_result"
    }
   ],
   "source": [
    "price_data.shape"
   ]
  },
  {
   "cell_type": "code",
   "execution_count": 163,
   "id": "518975ac",
   "metadata": {},
   "outputs": [
    {
     "data": {
      "text/html": [
       "<div>\n",
       "<style scoped>\n",
       "    .dataframe tbody tr th:only-of-type {\n",
       "        vertical-align: middle;\n",
       "    }\n",
       "\n",
       "    .dataframe tbody tr th {\n",
       "        vertical-align: top;\n",
       "    }\n",
       "\n",
       "    .dataframe thead th {\n",
       "        text-align: right;\n",
       "    }\n",
       "</style>\n",
       "<table border=\"1\" class=\"dataframe\">\n",
       "  <thead>\n",
       "    <tr style=\"text-align: right;\">\n",
       "      <th></th>\n",
       "      <th>Almond</th>\n",
       "      <th>Peanut</th>\n",
       "      <th>Cashew</th>\n",
       "    </tr>\n",
       "  </thead>\n",
       "  <tbody>\n",
       "    <tr>\n",
       "      <th>Price</th>\n",
       "      <td>10</td>\n",
       "      <td>8</td>\n",
       "      <td>12</td>\n",
       "    </tr>\n",
       "  </tbody>\n",
       "</table>\n",
       "</div>"
      ],
      "text/plain": [
       "       Almond  Peanut  Cashew\n",
       "Price      10       8      12"
      ]
     },
     "execution_count": 163,
     "metadata": {},
     "output_type": "execute_result"
    }
   ],
   "source": [
    "price_df = pd.DataFrame(price_data.reshape(1,3), index=['Price'], columns=['Almond', 'Peanut', 'Cashew'])\n",
    "price_df"
   ]
  },
  {
   "cell_type": "code",
   "execution_count": 107,
   "id": "e880657c",
   "metadata": {},
   "outputs": [
    {
     "data": {
      "text/html": [
       "<div>\n",
       "<style scoped>\n",
       "    .dataframe tbody tr th:only-of-type {\n",
       "        vertical-align: middle;\n",
       "    }\n",
       "\n",
       "    .dataframe tbody tr th {\n",
       "        vertical-align: top;\n",
       "    }\n",
       "\n",
       "    .dataframe thead th {\n",
       "        text-align: right;\n",
       "    }\n",
       "</style>\n",
       "<table border=\"1\" class=\"dataframe\">\n",
       "  <thead>\n",
       "    <tr style=\"text-align: right;\">\n",
       "      <th></th>\n",
       "      <th>Price</th>\n",
       "    </tr>\n",
       "  </thead>\n",
       "  <tbody>\n",
       "    <tr>\n",
       "      <th>Almond</th>\n",
       "      <td>10</td>\n",
       "    </tr>\n",
       "    <tr>\n",
       "      <th>Peanut</th>\n",
       "      <td>8</td>\n",
       "    </tr>\n",
       "    <tr>\n",
       "      <th>Cashew</th>\n",
       "      <td>12</td>\n",
       "    </tr>\n",
       "  </tbody>\n",
       "</table>\n",
       "</div>"
      ],
      "text/plain": [
       "        Price\n",
       "Almond     10\n",
       "Peanut      8\n",
       "Cashew     12"
      ]
     },
     "execution_count": 107,
     "metadata": {},
     "output_type": "execute_result"
    }
   ],
   "source": [
    "price_df.T"
   ]
  },
  {
   "cell_type": "code",
   "execution_count": 164,
   "id": "833291ec",
   "metadata": {},
   "outputs": [
    {
     "data": {
      "text/html": [
       "<div>\n",
       "<style scoped>\n",
       "    .dataframe tbody tr th:only-of-type {\n",
       "        vertical-align: middle;\n",
       "    }\n",
       "\n",
       "    .dataframe tbody tr th {\n",
       "        vertical-align: top;\n",
       "    }\n",
       "\n",
       "    .dataframe thead th {\n",
       "        text-align: right;\n",
       "    }\n",
       "</style>\n",
       "<table border=\"1\" class=\"dataframe\">\n",
       "  <thead>\n",
       "    <tr style=\"text-align: right;\">\n",
       "      <th></th>\n",
       "      <th>Mon</th>\n",
       "      <th>Tues</th>\n",
       "      <th>Wed</th>\n",
       "      <th>Thurs</th>\n",
       "      <th>Fri</th>\n",
       "      <th>Sat</th>\n",
       "      <th>Sun</th>\n",
       "    </tr>\n",
       "  </thead>\n",
       "  <tbody>\n",
       "    <tr>\n",
       "      <th>Price</th>\n",
       "      <td>88</td>\n",
       "      <td>314</td>\n",
       "      <td>522</td>\n",
       "      <td>270</td>\n",
       "      <td>354</td>\n",
       "      <td>728</td>\n",
       "      <td>1256</td>\n",
       "    </tr>\n",
       "  </tbody>\n",
       "</table>\n",
       "</div>"
      ],
      "text/plain": [
       "       Mon  Tues  Wed  Thurs  Fri  Sat   Sun\n",
       "Price   88   314  522    270  354  728  1256"
      ]
     },
     "execution_count": 164,
     "metadata": {},
     "output_type": "execute_result"
    }
   ],
   "source": [
    "daily_sale = price_df.dot(sale_df.T)\n",
    "#daily_sale = np.dot(sale_df, price_df.T)\n",
    "daily_sale"
   ]
  },
  {
   "cell_type": "code",
   "execution_count": 166,
   "id": "95073fd5",
   "metadata": {},
   "outputs": [
    {
     "data": {
      "text/html": [
       "<div>\n",
       "<style scoped>\n",
       "    .dataframe tbody tr th:only-of-type {\n",
       "        vertical-align: middle;\n",
       "    }\n",
       "\n",
       "    .dataframe tbody tr th {\n",
       "        vertical-align: top;\n",
       "    }\n",
       "\n",
       "    .dataframe thead th {\n",
       "        text-align: right;\n",
       "    }\n",
       "</style>\n",
       "<table border=\"1\" class=\"dataframe\">\n",
       "  <thead>\n",
       "    <tr style=\"text-align: right;\">\n",
       "      <th></th>\n",
       "      <th>Almond</th>\n",
       "      <th>Peanut</th>\n",
       "      <th>Cashew</th>\n",
       "      <th>Total</th>\n",
       "    </tr>\n",
       "  </thead>\n",
       "  <tbody>\n",
       "    <tr>\n",
       "      <th>Mon</th>\n",
       "      <td>2</td>\n",
       "      <td>7</td>\n",
       "      <td>1</td>\n",
       "      <td>88</td>\n",
       "    </tr>\n",
       "    <tr>\n",
       "      <th>Tues</th>\n",
       "      <td>9</td>\n",
       "      <td>4</td>\n",
       "      <td>16</td>\n",
       "      <td>314</td>\n",
       "    </tr>\n",
       "    <tr>\n",
       "      <th>Wed</th>\n",
       "      <td>11</td>\n",
       "      <td>14</td>\n",
       "      <td>25</td>\n",
       "      <td>522</td>\n",
       "    </tr>\n",
       "    <tr>\n",
       "      <th>Thurs</th>\n",
       "      <td>13</td>\n",
       "      <td>13</td>\n",
       "      <td>3</td>\n",
       "      <td>270</td>\n",
       "    </tr>\n",
       "    <tr>\n",
       "      <th>Fri</th>\n",
       "      <td>15</td>\n",
       "      <td>18</td>\n",
       "      <td>5</td>\n",
       "      <td>354</td>\n",
       "    </tr>\n",
       "    <tr>\n",
       "      <th>Sat</th>\n",
       "      <td>52</td>\n",
       "      <td>20</td>\n",
       "      <td>4</td>\n",
       "      <td>728</td>\n",
       "    </tr>\n",
       "    <tr>\n",
       "      <th>Sun</th>\n",
       "      <td>12</td>\n",
       "      <td>25</td>\n",
       "      <td>78</td>\n",
       "      <td>1256</td>\n",
       "    </tr>\n",
       "  </tbody>\n",
       "</table>\n",
       "</div>"
      ],
      "text/plain": [
       "       Almond  Peanut  Cashew  Total\n",
       "Mon         2       7       1     88\n",
       "Tues        9       4      16    314\n",
       "Wed        11      14      25    522\n",
       "Thurs      13      13       3    270\n",
       "Fri        15      18       5    354\n",
       "Sat        52      20       4    728\n",
       "Sun        12      25      78   1256"
      ]
     },
     "execution_count": 166,
     "metadata": {},
     "output_type": "execute_result"
    }
   ],
   "source": [
    "sale_df['Total'] = daily_sale.T\n",
    "sale_df"
   ]
  },
  {
   "cell_type": "code",
   "execution_count": 169,
   "id": "88726f51",
   "metadata": {},
   "outputs": [
    {
     "data": {
      "text/plain": [
       "array(['True', '1', 'False'], dtype='<U11')"
      ]
     },
     "execution_count": 169,
     "metadata": {},
     "output_type": "execute_result"
    }
   ],
   "source": [
    "a = np.array(['True', 1, False])\n",
    "a"
   ]
  },
  {
   "cell_type": "code",
   "execution_count": 170,
   "id": "f5507747",
   "metadata": {},
   "outputs": [
    {
     "data": {
      "text/plain": [
       "dtype('<U11')"
      ]
     },
     "execution_count": 170,
     "metadata": {},
     "output_type": "execute_result"
    }
   ],
   "source": [
    "a.dtype"
   ]
  },
  {
   "cell_type": "code",
   "execution_count": 173,
   "id": "5acd1251",
   "metadata": {},
   "outputs": [],
   "source": [
    "a = np.random.randint(10, size=(2,3))"
   ]
  },
  {
   "cell_type": "code",
   "execution_count": 187,
   "id": "d258e769",
   "metadata": {},
   "outputs": [
    {
     "data": {
      "text/plain": [
       "array([[10, 11, 12],\n",
       "       [13, 14, 15]])"
      ]
     },
     "execution_count": 187,
     "metadata": {},
     "output_type": "execute_result"
    }
   ],
   "source": [
    "a = np.arange(6).reshape(2,3) + 10\n",
    "a\n"
   ]
  },
  {
   "cell_type": "code",
   "execution_count": 188,
   "id": "5d36436d",
   "metadata": {},
   "outputs": [
    {
     "data": {
      "text/plain": [
       "5"
      ]
     },
     "execution_count": 188,
     "metadata": {},
     "output_type": "execute_result"
    }
   ],
   "source": [
    "np.argmax(a)"
   ]
  },
  {
   "cell_type": "code",
   "execution_count": 176,
   "id": "2b3bde0c",
   "metadata": {},
   "outputs": [
    {
     "data": {
      "text/plain": [
       "array([[1, 2, 0],\n",
       "       [1, 2, 0]], dtype=int64)"
      ]
     },
     "execution_count": 176,
     "metadata": {},
     "output_type": "execute_result"
    }
   ],
   "source": [
    "np.argsort(a)"
   ]
  },
  {
   "cell_type": "code",
   "execution_count": 183,
   "id": "74dd5ff5",
   "metadata": {},
   "outputs": [
    {
     "ename": "IndexError",
     "evalue": "index 4 is out of bounds for axis 0 with size 2",
     "output_type": "error",
     "traceback": [
      "\u001b[1;31m---------------------------------------------------------------------------\u001b[0m",
      "\u001b[1;31mIndexError\u001b[0m                                Traceback (most recent call last)",
      "Input \u001b[1;32mIn [183]\u001b[0m, in \u001b[0;36m<cell line: 1>\u001b[1;34m()\u001b[0m\n\u001b[1;32m----> 1\u001b[0m \u001b[43ma\u001b[49m\u001b[43m[\u001b[49m\u001b[38;5;241;43m4\u001b[39;49m\u001b[43m]\u001b[49m\n",
      "\u001b[1;31mIndexError\u001b[0m: index 4 is out of bounds for axis 0 with size 2"
     ]
    }
   ],
   "source": [
    "a[4]"
   ]
  },
  {
   "cell_type": "markdown",
   "id": "12fc6ddc",
   "metadata": {},
   "source": [
    "<img src=\"./dog.jpg\"/>"
   ]
  },
  {
   "cell_type": "code",
   "execution_count": 190,
   "id": "6997cbd1",
   "metadata": {},
   "outputs": [],
   "source": [
    "from matplotlib.pyplot import imread"
   ]
  },
  {
   "cell_type": "code",
   "execution_count": 193,
   "id": "b565294f",
   "metadata": {},
   "outputs": [
    {
     "data": {
      "text/plain": [
       "array([[[ 51,  63,   0],\n",
       "        [ 50,  62,   0],\n",
       "        [ 46,  60,   0],\n",
       "        ...,\n",
       "        [ 39,  51,   3],\n",
       "        [ 38,  50,   4],\n",
       "        [ 37,  48,   5]],\n",
       "\n",
       "       [[ 50,  62,   0],\n",
       "        [ 49,  60,   0],\n",
       "        [ 45,  59,   0],\n",
       "        ...,\n",
       "        [ 43,  55,   5],\n",
       "        [ 41,  53,   5],\n",
       "        [ 39,  51,   5]],\n",
       "\n",
       "       [[ 48,  59,   1],\n",
       "        [ 47,  58,   0],\n",
       "        [ 43,  56,   2],\n",
       "        ...,\n",
       "        [ 44,  57,   4],\n",
       "        [ 41,  53,   3],\n",
       "        [ 41,  50,   3]],\n",
       "\n",
       "       ...,\n",
       "\n",
       "       [[138, 161,  44],\n",
       "        [138, 161,  45],\n",
       "        [140, 162,  51],\n",
       "        ...,\n",
       "        [137, 147,  58],\n",
       "        [137, 147,  58],\n",
       "        [136, 145,  56]],\n",
       "\n",
       "       [[138, 162,  40],\n",
       "        [137, 161,  41],\n",
       "        [139, 162,  46],\n",
       "        ...,\n",
       "        [137, 148,  56],\n",
       "        [138, 147,  56],\n",
       "        [141, 147,  57]],\n",
       "\n",
       "       [[138, 162,  38],\n",
       "        [137, 161,  39],\n",
       "        [137, 160,  43],\n",
       "        ...,\n",
       "        [135, 146,  52],\n",
       "        [137, 146,  53],\n",
       "        [142, 148,  58]]], dtype=uint8)"
      ]
     },
     "execution_count": 193,
     "metadata": {},
     "output_type": "execute_result"
    }
   ],
   "source": [
    "dog = imread('./dog.jpg')\n",
    "dog"
   ]
  },
  {
   "cell_type": "code",
   "execution_count": null,
   "id": "84056754",
   "metadata": {},
   "outputs": [],
   "source": []
  }
 ],
 "metadata": {
  "kernelspec": {
   "display_name": "Python 3 (ipykernel)",
   "language": "python",
   "name": "python3"
  },
  "language_info": {
   "codemirror_mode": {
    "name": "ipython",
    "version": 3
   },
   "file_extension": ".py",
   "mimetype": "text/x-python",
   "name": "python",
   "nbconvert_exporter": "python",
   "pygments_lexer": "ipython3",
   "version": "3.10.4"
  }
 },
 "nbformat": 4,
 "nbformat_minor": 5
}
